{
  "nbformat": 4,
  "nbformat_minor": 0,
  "metadata": {
    "colab": {
      "provenance": []
    },
    "kernelspec": {
      "name": "python3",
      "display_name": "Python 3"
    },
    "language_info": {
      "name": "python"
    }
  },
  "cells": [
    {
      "cell_type": "markdown",
      "source": [
        "# Download the MNIST Dataset"
      ],
      "metadata": {
        "id": "PHgHpENXDuh8"
      }
    },
    {
      "cell_type": "code",
      "execution_count": 12,
      "metadata": {
        "colab": {
          "base_uri": "https://localhost:8080/"
        },
        "id": "iQJQmirtDUXG",
        "outputId": "1c17bcdd-a744-4703-a808-47c02f87ef93"
      },
      "outputs": [
        {
          "output_type": "stream",
          "name": "stdout",
          "text": [
            "Train dataset size: 60000\n",
            "Test dataset size: 10000\n"
          ]
        }
      ],
      "source": [
        "import torch\n",
        "import torchvision\n",
        "from torchvision import datasets, transforms\n",
        "\n",
        "transform = transforms.Compose([\n",
        "    transforms.ToTensor(),\n",
        "    transforms.Normalize((0.5,), (0.5,))  # Normalize pixel values to range [-1, 1]\n",
        "])\n",
        "\n",
        "# Download the MNIST dataset\n",
        "train_dataset = datasets.MNIST(root='./data', train=True, download=True, transform=transform)\n",
        "test_dataset = datasets.MNIST(root='./data', train=False, download=True, transform=transform)\n",
        "\n",
        "print(f\"Train dataset size: {len(train_dataset)}\")\n",
        "print(f\"Test dataset size: {len(test_dataset)}\")\n"
      ]
    },
    {
      "cell_type": "markdown",
      "source": [
        "# Split the Dataset for Multiple Clients"
      ],
      "metadata": {
        "id": "B0ocOo1pDzKv"
      }
    },
    {
      "cell_type": "code",
      "source": [
        "from torch.utils.data import random_split\n",
        "\n",
        "num_clients = 5\n",
        "\n",
        "# Split the training dataset into `num_clients` parts\n",
        "client_datasets = random_split(train_dataset, [len(train_dataset) // num_clients] * num_clients)\n",
        "\n",
        "# Check the size of each client's dataset\n",
        "for i, client_data in enumerate(client_datasets):\n",
        "    print(f\"Client {i+1} dataset size: {len(client_data)}\")\n"
      ],
      "metadata": {
        "colab": {
          "base_uri": "https://localhost:8080/"
        },
        "id": "zHvcfLunDeL5",
        "outputId": "ba84d5df-e004-4918-d9ab-b2b779d57d4a"
      },
      "execution_count": 3,
      "outputs": [
        {
          "output_type": "stream",
          "name": "stdout",
          "text": [
            "Client 1 dataset size: 12000\n",
            "Client 2 dataset size: 12000\n",
            "Client 3 dataset size: 12000\n",
            "Client 4 dataset size: 12000\n",
            "Client 5 dataset size: 12000\n"
          ]
        }
      ]
    },
    {
      "cell_type": "markdown",
      "source": [
        "# Visualize the Data"
      ],
      "metadata": {
        "id": "zD-VxIVXD_PZ"
      }
    },
    {
      "cell_type": "code",
      "source": [
        "import matplotlib.pyplot as plt\n",
        "\n",
        "def visualize_data(dataset):\n",
        "    fig, axes = plt.subplots(1, 5, figsize=(10, 2))\n",
        "    for i, ax in enumerate(axes):\n",
        "        img, label = dataset[i]\n",
        "        ax.imshow(img.squeeze(), cmap='gray')\n",
        "        ax.set_title(f\"Label: {label}\")\n",
        "        ax.axis('off')\n",
        "    plt.show()\n",
        "\n",
        "# Visualize data from the first client's dataset\n",
        "visualize_data(client_datasets[0])\n"
      ],
      "metadata": {
        "colab": {
          "base_uri": "https://localhost:8080/",
          "height": 192
        },
        "id": "q1jws9cNDeUO",
        "outputId": "f39499f7-6c6a-4437-c698-2426412c4a37"
      },
      "execution_count": 6,
      "outputs": [
        {
          "output_type": "display_data",
          "data": {
            "text/plain": [
              "<Figure size 1000x200 with 5 Axes>"
            ],
            "image/png": "[encoded data removed]"
          },
          "metadata": {}
        }
      ]
    },
    {
      "cell_type": "markdown",
      "source": [
        "# Defining the Model"
      ],
      "metadata": {
        "id": "jmAsi71eECdL"
      }
    },
    {
      "cell_type": "code",
      "source": [
        "import torch.nn as nn\n",
        "\n",
        "# Defining a simple neural network\n",
        "class SimpleNN(nn.Module):\n",
        "    def __init__(self):\n",
        "        super(SimpleNN, self).__init__()\n",
        "        self.fc = nn.Sequential(\n",
        "            nn.Linear(28 * 28, 128),  # Input layer\n",
        "            nn.ReLU(),               # Activation function\n",
        "            nn.Linear(128, 10)       # Output layer (10 classes)\n",
        "        )\n",
        "\n",
        "    def forward(self, x):\n",
        "        x = x.view(-1, 28 * 28)  # Flatten the input image\n",
        "        return self.fc(x)\n",
        "\n",
        "# Initializing the model\n",
        "global_model = SimpleNN()\n",
        "print(global_model)\n"
      ],
      "metadata": {
        "colab": {
          "base_uri": "https://localhost:8080/"
        },
        "id": "8zCTUnv6DeWx",
        "outputId": "52d30b60-25a5-470c-9e44-3935978a3d52"
      },
      "execution_count": 7,
      "outputs": [
        {
          "output_type": "stream",
          "name": "stdout",
          "text": [
            "SimpleNN(\n",
            "  (fc): Sequential(\n",
            "    (0): Linear(in_features=784, out_features=128, bias=True)\n",
            "    (1): ReLU()\n",
            "    (2): Linear(in_features=128, out_features=10, bias=True)\n",
            "  )\n",
            ")\n"
          ]
        }
      ]
    },
    {
      "cell_type": "markdown",
      "source": [
        "#  Local Training Function"
      ],
      "metadata": {
        "id": "rQgRS9OxEOUI"
      }
    },
    {
      "cell_type": "code",
      "source": [
        "import torch.optim as optim\n",
        "from torch.utils.data import DataLoader\n",
        "\n",
        "# Local training function\n",
        "def train_local_model(model, data, epochs=2, batch_size=32, lr=0.01):\n",
        "    model.train()\n",
        "    dataloader = DataLoader(data, batch_size=batch_size, shuffle=True)\n",
        "    optimizer = optim.SGD(model.parameters(), lr=lr)\n",
        "    criterion = nn.CrossEntropyLoss()\n",
        "\n",
        "    for epoch in range(epochs):\n",
        "        for inputs, labels in dataloader:\n",
        "            optimizer.zero_grad()  # Reset gradients\n",
        "            outputs = model(inputs)  # Forward pass\n",
        "            loss = criterion(outputs, labels)  # Compute loss\n",
        "            loss.backward()  # Backpropagation\n",
        "            optimizer.step()  # Update weights\n"
      ],
      "metadata": {
        "id": "_1nn9LD4DeZP"
      },
      "execution_count": 8,
      "outputs": []
    },
    {
      "cell_type": "markdown",
      "source": [
        "# Global Aggregation Function"
      ],
      "metadata": {
        "id": "vHY2fJEHEREa"
      }
    },
    {
      "cell_type": "code",
      "source": [
        "def average_weights(client_models):\n",
        "    global_model = client_models[0]\n",
        "    global_state_dict = global_model.state_dict()\n",
        "\n",
        "    # Average weights from all client models\n",
        "    for key in global_state_dict.keys():\n",
        "        global_state_dict[key] = torch.stack([client_model.state_dict()[key] for client_model in client_models], dim=0).mean(dim=0)\n",
        "\n",
        "    global_model.load_state_dict(global_state_dict)\n",
        "    return global_model\n"
      ],
      "metadata": {
        "id": "nSjm0zr_Debs"
      },
      "execution_count": 10,
      "outputs": []
    },
    {
      "cell_type": "markdown",
      "source": [
        "# Federated Averaging Loop"
      ],
      "metadata": {
        "id": "CPTga2XUETmg"
      }
    },
    {
      "cell_type": "code",
      "source": [
        "# Federated learning loop\n",
        "num_rounds = 5\n",
        "local_epochs = 2\n",
        "\n",
        "for round in range(num_rounds):\n",
        "    print(f\"--- Round {round+1} ---\")\n",
        "    client_models = []\n",
        "\n",
        "    for client_data in client_datasets:\n",
        "        # Clone the global model for local training\n",
        "        local_model = SimpleNN()\n",
        "        local_model.load_state_dict(global_model.state_dict())\n",
        "\n",
        "        # Train locally\n",
        "        train_local_model(local_model, client_data, epochs=local_epochs)\n",
        "        client_models.append(local_model)\n",
        "\n",
        "    # Aggregate local models to update the global model\n",
        "    global_model = average_weights(client_models)\n",
        "\n",
        "print(\"Federated learning completed!\")\n"
      ],
      "metadata": {
        "colab": {
          "base_uri": "https://localhost:8080/"
        },
        "id": "K3MTGUMSDedH",
        "outputId": "ccedc9dc-4f94-4aa8-fb2a-d5e25e7b3891"
      },
      "execution_count": 13,
      "outputs": [
        {
          "output_type": "stream",
          "name": "stdout",
          "text": [
            "--- Round 1 ---\n",
            "--- Round 2 ---\n",
            "--- Round 3 ---\n",
            "--- Round 4 ---\n",
            "--- Round 5 ---\n",
            "Federated learning completed!\n"
          ]
        }
      ]
    },
    {
      "cell_type": "markdown",
      "source": [
        "# Evaluating the Global Model"
      ],
      "metadata": {
        "id": "iL_ZB-RHI1NZ"
      }
    },
    {
      "cell_type": "code",
      "source": [
        "from torch.utils.data import DataLoader\n",
        "\n",
        "def evaluate_model(model, test_data):\n",
        "    model.eval()\n",
        "    test_loader = DataLoader(test_data, batch_size=32, shuffle=False)\n",
        "    correct = 0\n",
        "    total = 0\n",
        "\n",
        "    with torch.no_grad():\n",
        "        for inputs, labels in test_loader:\n",
        "            outputs = model(inputs)\n",
        "            _, predicted = torch.max(outputs, 1)  # Get class with highest probability\n",
        "            total += labels.size(0)\n",
        "            correct += (predicted == labels).sum().item()\n",
        "\n",
        "    # Calculate accuracy\n",
        "    accuracy = 100 * correct / total\n",
        "\n",
        "    return accuracy\n",
        "\n"
      ],
      "metadata": {
        "id": "dUp3Gs7II3vY"
      },
      "execution_count": 26,
      "outputs": []
    },
    {
      "cell_type": "code",
      "source": [
        "def visualize_predictions(model, test_data):\n",
        "    model.eval()\n",
        "    test_loader = DataLoader(test_data, batch_size=5, shuffle=True)\n",
        "    inputs, labels = next(iter(test_loader))\n",
        "\n",
        "    with torch.no_grad():\n",
        "        outputs = model(inputs)\n",
        "        _, predictions = torch.max(outputs, 1)\n",
        "\n",
        "    fig, axes = plt.subplots(1, 5, figsize=(10, 2))\n",
        "    for i, ax in enumerate(axes):\n",
        "        ax.imshow(inputs[i].squeeze(), cmap='gray')\n",
        "        ax.set_title(f\"Pred: {predictions[i].item()}\\nTrue: {labels[i].item()}\")\n",
        "        ax.axis('off')\n",
        "    plt.show()\n",
        "\n",
        "# Visualize predictions\n",
        "visualize_predictions(global_model, test_dataset)\n"
      ],
      "metadata": {
        "colab": {
          "base_uri": "https://localhost:8080/",
          "height": 213
        },
        "id": "C8GLFpYXI-M0",
        "outputId": "db358d9a-8ed6-46b7-b77a-d6adfa4fdbad"
      },
      "execution_count": 18,
      "outputs": [
        {
          "output_type": "display_data",
          "data": {
            "text/plain": [
              "<Figure size 1000x200 with 5 Axes>"
            ],
            "image/png": "[encoded data removed]"
          },
          "metadata": {}
        }
      ]
    },
    {
      "cell_type": "markdown",
      "source": [
        "# Trying out different variations in distributed setting"
      ],
      "metadata": {
        "id": "HhBDRzG3JdEm"
      }
    },
    {
      "cell_type": "markdown",
      "source": [
        "(a) Client Participation:Currently, all clients might be participating in each round. Trying to reduce client participation per round (e.g., select a random subset of clients for training in each round)."
      ],
      "metadata": {
        "id": "oxQsMu4dJi3X"
      }
    },
    {
      "cell_type": "code",
      "source": [
        "import random\n",
        "\n",
        "def select_clients(client_datasets, fraction=0.5):\n",
        "    num_selected = int(len(client_datasets) * fraction)\n",
        "    return random.sample(client_datasets, num_selected)\n",
        "\n",
        "# Example: Select 50% of clients for a round\n",
        "selected_clients = select_clients(client_datasets, fraction=0.5)\n"
      ],
      "metadata": {
        "id": "bwDUpTvMJBgf"
      },
      "execution_count": 19,
      "outputs": []
    },
    {
      "cell_type": "markdown",
      "source": [
        "(b) Increasing the model complexity"
      ],
      "metadata": {
        "id": "XQtjs31GJwOv"
      }
    },
    {
      "cell_type": "code",
      "source": [
        "class CNN(nn.Module):\n",
        "    def __init__(self):\n",
        "        super(CNN, self).__init__()\n",
        "        self.conv1 = nn.Conv2d(1, 32, kernel_size=3, stride=1, padding=1)\n",
        "        self.conv2 = nn.Conv2d(32, 64, kernel_size=3, stride=1, padding=1)\n",
        "        self.fc1 = nn.Linear(64 * 7 * 7, 128)  # Flatten after 2x2 pooling\n",
        "        self.fc2 = nn.Linear(128, 10)\n",
        "\n",
        "    def forward(self, x):\n",
        "        x = nn.ReLU()(self.conv1(x))\n",
        "        x = nn.MaxPool2d(kernel_size=2)(x)\n",
        "        x = nn.ReLU()(self.conv2(x))\n",
        "        x = nn.MaxPool2d(kernel_size=2)(x)\n",
        "        x = x.view(-1, 64 * 7 * 7)\n",
        "        x = nn.ReLU()(self.fc1(x))\n",
        "        return self.fc2(x)\n"
      ],
      "metadata": {
        "id": "nVaY53BNJzj9"
      },
      "execution_count": 20,
      "outputs": []
    },
    {
      "cell_type": "code",
      "source": [
        "global_model = CNN()  # Initialize the global model with the new architecture"
      ],
      "metadata": {
        "id": "7NTxYiGfKfNH"
      },
      "execution_count": 23,
      "outputs": []
    },
    {
      "cell_type": "code",
      "source": [
        "local_model = CNN()  # Use the new CNN model for local training"
      ],
      "metadata": {
        "id": "oWCi3neBKfPw"
      },
      "execution_count": 24,
      "outputs": []
    },
    {
      "cell_type": "code",
      "source": [
        "for round in range(num_rounds):\n",
        "    print(f\"--- Round {round+1} ---\")\n",
        "\n",
        "    # Selecting a fraction of clients to participate\n",
        "    selected_clients = select_clients(client_datasets, fraction=0.5)\n",
        "    client_models = []\n",
        "\n",
        "    for client_data in selected_clients:\n",
        "        # Clone the global model for local training\n",
        "        local_model = CNN()\n",
        "        local_model.load_state_dict(global_model.state_dict())\n",
        "\n",
        "        # Train locally\n",
        "        train_local_model(local_model, client_data, epochs=local_epochs)\n",
        "        client_models.append(local_model)\n",
        "\n",
        "    # Aggregating local models to update the global model\n",
        "    global_model = average_weights(client_models)\n",
        "\n",
        "    # Evaluating global model after the round\n",
        "    accuracy = evaluate_model(global_model, test_dataset)  # Accuracy is now returned\n",
        "    accuracies.append(accuracy)\n",
        "    print(f\"Round {round+1} Accuracy: {accuracy:.2f}%\")\n",
        "\n",
        "print(\"Federated learning completed!\")\n"
      ],
      "metadata": {
        "colab": {
          "base_uri": "https://localhost:8080/"
        },
        "id": "cEUidwL3J3R6",
        "outputId": "d978a649-ea0b-481b-cd95-91b451aa4694"
      },
      "execution_count": 27,
      "outputs": [
        {
          "output_type": "stream",
          "name": "stdout",
          "text": [
            "--- Round 1 ---\n",
            "Round 1 Accuracy: 95.15%\n",
            "--- Round 2 ---\n",
            "Round 2 Accuracy: 96.21%\n",
            "--- Round 3 ---\n",
            "Round 3 Accuracy: 97.21%\n",
            "--- Round 4 ---\n",
            "Round 4 Accuracy: 97.71%\n",
            "--- Round 5 ---\n",
            "Round 5 Accuracy: 97.73%\n",
            "Federated learning completed!\n"
          ]
        }
      ]
    },
    {
      "cell_type": "markdown",
      "source": [
        "# Experimenting with different client participations"
      ],
      "metadata": {
        "id": "cskGMxUqOh98"
      }
    },
    {
      "cell_type": "code",
      "source": [
        "# Different participation levels to experiment with\n",
        "participation_levels = [0.25, 0.5, 0.75, 1.0]\n",
        "results = {}\n",
        "\n",
        "for fraction in participation_levels:\n",
        "    print(f\"\\n=== Experiment with {int(fraction * 100)}% Client Participation ===\")\n",
        "    accuracies = []  # Reset accuracies for this participation level\n",
        "\n",
        "    for round in range(num_rounds):\n",
        "        print(f\"--- Round {round+1} ---\")\n",
        "\n",
        "        selected_clients = select_clients(client_datasets, fraction=fraction)\n",
        "        client_models = []\n",
        "\n",
        "        for client_data in selected_clients:\n",
        "            # Clone the global model for local training\n",
        "            local_model = CNN()\n",
        "            local_model.load_state_dict(global_model.state_dict())\n",
        "\n",
        "            # Train locally\n",
        "            train_local_model(local_model, client_data, epochs=local_epochs)\n",
        "            client_models.append(local_model)\n",
        "\n",
        "        # Aggregating local models to update the global model\n",
        "        global_model = average_weights(client_models)\n",
        "\n",
        "        # Evaluating global model after the round\n",
        "        accuracy = evaluate_model(global_model, test_dataset)  # Accuracy is now returned\n",
        "        accuracies.append(accuracy)\n",
        "        print(f\"Round {round+1} Accuracy: {accuracy:.2f}%\")\n",
        "\n",
        "    # Store results for this participation level\n",
        "    results[int(fraction * 100)] = accuracies\n",
        "    print(f\"Completed experiment for {int(fraction * 100)}% client participation.\")\n",
        "\n",
        "for level, acc in results.items():\n",
        "    print(f\"\\nClient Participation: {level}%\")\n",
        "    print(f\"Accuracies over rounds: {acc}\")\n"
      ],
      "metadata": {
        "colab": {
          "base_uri": "https://localhost:8080/"
        },
        "id": "fvFNKek8J3vZ",
        "outputId": "a802d2da-9f40-4bd4-f3cf-8be465b2d58c"
      },
      "execution_count": 28,
      "outputs": [
        {
          "output_type": "stream",
          "name": "stdout",
          "text": [
            "\n",
            "=== Experiment with 25% Client Participation ===\n",
            "--- Round 1 ---\n",
            "Round 1 Accuracy: 97.98%\n",
            "--- Round 2 ---\n",
            "Round 2 Accuracy: 98.18%\n",
            "--- Round 3 ---\n",
            "Round 3 Accuracy: 98.03%\n",
            "--- Round 4 ---\n",
            "Round 4 Accuracy: 98.33%\n",
            "--- Round 5 ---\n",
            "Round 5 Accuracy: 98.47%\n",
            "Completed experiment for 25% client participation.\n",
            "\n",
            "=== Experiment with 50% Client Participation ===\n",
            "--- Round 1 ---\n",
            "Round 1 Accuracy: 98.60%\n",
            "--- Round 2 ---\n",
            "Round 2 Accuracy: 98.59%\n",
            "--- Round 3 ---\n",
            "Round 3 Accuracy: 98.55%\n",
            "--- Round 4 ---\n",
            "Round 4 Accuracy: 98.79%\n",
            "--- Round 5 ---\n",
            "Round 5 Accuracy: 98.74%\n",
            "Completed experiment for 50% client participation.\n",
            "\n",
            "=== Experiment with 75% Client Participation ===\n",
            "--- Round 1 ---\n",
            "Round 1 Accuracy: 98.75%\n",
            "--- Round 2 ---\n",
            "Round 2 Accuracy: 98.71%\n",
            "--- Round 3 ---\n",
            "Round 3 Accuracy: 98.77%\n",
            "--- Round 4 ---\n",
            "Round 4 Accuracy: 98.84%\n",
            "--- Round 5 ---\n",
            "Round 5 Accuracy: 98.89%\n",
            "Completed experiment for 75% client participation.\n",
            "\n",
            "=== Experiment with 100% Client Participation ===\n",
            "--- Round 1 ---\n",
            "Round 1 Accuracy: 98.89%\n",
            "--- Round 2 ---\n",
            "Round 2 Accuracy: 98.86%\n",
            "--- Round 3 ---\n",
            "Round 3 Accuracy: 98.88%\n",
            "--- Round 4 ---\n",
            "Round 4 Accuracy: 98.92%\n",
            "--- Round 5 ---\n",
            "Round 5 Accuracy: 98.92%\n",
            "Completed experiment for 100% client participation.\n",
            "\n",
            "Client Participation: 25%\n",
            "Accuracies over rounds: [97.98, 98.18, 98.03, 98.33, 98.47]\n",
            "\n",
            "Client Participation: 50%\n",
            "Accuracies over rounds: [98.6, 98.59, 98.55, 98.79, 98.74]\n",
            "\n",
            "Client Participation: 75%\n",
            "Accuracies over rounds: [98.75, 98.71, 98.77, 98.84, 98.89]\n",
            "\n",
            "Client Participation: 100%\n",
            "Accuracies over rounds: [98.89, 98.86, 98.88, 98.92, 98.92]\n"
          ]
        }
      ]
    },
    {
      "cell_type": "code",
      "source": [
        "# Plot accuracy trends\n",
        "import matplotlib.pyplot as plt\n",
        "\n",
        "for level, acc in results.items():\n",
        "    rounds = list(range(1, num_rounds + 1))\n",
        "    plt.plot(rounds, acc, marker='o', label=f\"{level}% Participation\")\n",
        "\n",
        "plt.xlabel('Communication Rounds')\n",
        "plt.ylabel('Accuracy (%)')\n",
        "plt.title('Global Model Accuracy vs Client Participation')\n",
        "plt.legend()\n",
        "plt.grid()\n",
        "plt.show()\n"
      ],
      "metadata": {
        "colab": {
          "base_uri": "https://localhost:8080/",
          "height": 472
        },
        "id": "D7aqKhAEOpL3",
        "outputId": "8ef408cb-7cc4-4205-bb08-59dcfa955359"
      },
      "execution_count": 29,
      "outputs": [
        {
          "output_type": "display_data",
          "data": {
            "text/plain": [
              "<Figure size 640x480 with 1 Axes>"
            ],
            "image/png": "[encoded data removed]"
          },
          "metadata": {}
        }
      ]
    }
  ]
}